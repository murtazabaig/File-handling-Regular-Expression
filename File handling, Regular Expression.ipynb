{
 "cells": [
  {
   "cell_type": "code",
   "execution_count": 6,
   "id": "6e51cbe2",
   "metadata": {},
   "outputs": [
    {
     "name": "stdout",
     "output_type": "stream",
     "text": [
      "murtaza\n",
      "baig\n"
     ]
    }
   ],
   "source": [
    "# question 2\n",
    "import re\n",
    "file_path = 'your_text_file.txt'\n",
    "try:\n",
    "    with open(file_path, 'r') as file:\n",
    "        text = file.read()\n",
    "        words = re.split(r'[^\\w_]+', text)\n",
    "        variable_names = [word for word in words if re.match(r'^[a-zA-Z_]\\w*$', word)]\n",
    "        for name in variable_names:\n",
    "            print(name)\n",
    "except FileNotFoundError:\n",
    "    print(f\"File '{file_path}' not found.\")\n",
    "    "
   ]
  },
  {
   "cell_type": "code",
   "execution_count": 7,
   "id": "baed50bd",
   "metadata": {},
   "outputs": [
    {
     "name": "stdout",
     "output_type": "stream",
     "text": [
      "Enter your password: MUrtaza baig\n",
      "Password must contain at least one digit.\n"
     ]
    }
   ],
   "source": [
    "#question 1\n",
    "import re\n",
    "def check_password_strength(password):\n",
    "    if len(password) < 8:\n",
    "        return \"Password is too short. It must be at least 8 characters long.\"\n",
    "    if not any(char.isupper() for char in password):\n",
    "        return \"Password must contain at least one uppercase letter.\"\n",
    "    if not any(char.islower() for char in password):\n",
    "        return \"Password must contain at least one lowercase letter.\"\n",
    "    if not any(char.isdigit() for char in password):\n",
    "        return \"Password must contain at least one digit.\"\n",
    "    if not re.search(r'[!@#$%^&*(),.?\":{}|<>]', password):\n",
    "        return \"Password must contain at least one special character.\"\n",
    "    return \"Password is strong.\"\n",
    "user_password = input(\"Enter your password: \")\n",
    "result = check_password_strength(user_password)\n",
    "print(result)"
   ]
  },
  {
   "cell_type": "code",
   "execution_count": 13,
   "id": "bf6302fa",
   "metadata": {},
   "outputs": [
    {
     "name": "stdout",
     "output_type": "stream",
     "text": [
      "No roll numbers found in the text.\n"
     ]
    }
   ],
   "source": [
    "#question 3\n",
    "import re\n",
    "file_path = 'student_emails.txt'\n",
    "try:\n",
    "    with open(file_path, 'r') as file:\n",
    "        text = file.read()\n",
    "        pattern = r'\\b\\d{2}[A-Za-z]{3}\\d{4}\\b' \n",
    "        matches = re.finditer(pattern, text)\n",
    "        roll_numbers = [match.group() for match in matches]\n",
    "        if roll_numbers:\n",
    "            print(\"Extracted Roll Numbers:\")\n",
    "            for roll_number in roll_numbers:\n",
    "                print(roll_number)\n",
    "        else:\n",
    "            print(\"No roll numbers found in the text.\")\n",
    "except FileNotFoundError:\n",
    "    print(f\"File '{file_path}' not found.\")"
   ]
  },
  {
   "cell_type": "code",
   "execution_count": 14,
   "id": "11007a7a",
   "metadata": {},
   "outputs": [
    {
     "name": "stdout",
     "output_type": "stream",
     "text": [
      "Spam Confidence Scores:\n",
      "Message 1: Score=2, Likely Spam\n",
      "Message 2: Score=2, Likely Spam\n",
      "Message 3: Score=1, Not Spam\n"
     ]
    }
   ],
   "source": [
    "#question 4\n",
    "import re\n",
    "spam_patterns = [\n",
    "    r'[A-Z!]{3,}',         \n",
    "    r'offer|discount|win', \n",
    "    r'\\$\\d+',              \n",
    "]\n",
    "def calculate_spam_confidence(text):\n",
    "    # Initialize spam score\n",
    "    spam_score = 0\n",
    "    for pattern in spam_patterns:\n",
    "        if re.search(pattern, text, re.IGNORECASE):\n",
    "            spam_score += 1\n",
    "    return spam_score\n",
    "messages = [\n",
    "    \"Congratulations, you've won a discount!\",\n",
    "    \"IMPORTANT!!! LIMITED TIME OFFER!!!\",\n",
    "    \"Hello, how are you today?\",\n",
    "]\n",
    "print(\"Spam Confidence Scores:\")\n",
    "for i, message in enumerate(messages, start=1):\n",
    "    spam_score = calculate_spam_confidence(message)\n",
    "    print(f\"Message {i}: Score={spam_score}, {'Likely Spam' if spam_score >= 2 else 'Not Spam'}\")"
   ]
  },
  {
   "cell_type": "code",
   "execution_count": null,
   "id": "a0a719db",
   "metadata": {},
   "outputs": [],
   "source": []
  }
 ],
 "metadata": {
  "kernelspec": {
   "display_name": "Python 3 (ipykernel)",
   "language": "python",
   "name": "python3"
  },
  "language_info": {
   "codemirror_mode": {
    "name": "ipython",
    "version": 3
   },
   "file_extension": ".py",
   "mimetype": "text/x-python",
   "name": "python",
   "nbconvert_exporter": "python",
   "pygments_lexer": "ipython3",
   "version": "3.11.4"
  }
 },
 "nbformat": 4,
 "nbformat_minor": 5
}
